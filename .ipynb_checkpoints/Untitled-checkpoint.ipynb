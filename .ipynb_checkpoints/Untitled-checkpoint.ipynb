{
 "cells": [
  {
   "cell_type": "code",
   "execution_count": 1,
   "id": "e0e7a875",
   "metadata": {},
   "outputs": [],
   "source": [
    "import numpy as np"
   ]
  },
  {
   "cell_type": "code",
   "execution_count": 4,
   "id": "9ca7500a",
   "metadata": {},
   "outputs": [],
   "source": [
    "import numpy as np\n",
    "\n",
    "# x_shape = tuple(map(int, input().split()))\n",
    "# X = np.fromiter(map(int, input().split()), np.int).reshape(x_shape)\n",
    "# y_shape = tuple(map(int, input().split()))\n",
    "# Y = np.fromiter(map(int, input().split()), np.int).reshape(y_shape)\n",
    "\n",
    "\n",
    "\n",
    "# here goes your solution; X and Y are already defined!\n",
    "data = '2 3\\n8 7 7 14 4 6\\n4 3\\n5 5 1 5 2 6 3 3 9 1 4 6'"
   ]
  },
  {
   "cell_type": "code",
   "execution_count": 42,
   "id": "d63152d7",
   "metadata": {},
   "outputs": [
    {
     "name": "stdout",
     "output_type": "stream",
     "text": [
      "[[ 82  96 108  78]\n",
      " [ 96 114 108  66]]\n"
     ]
    }
   ],
   "source": [
    "input_data = iter(data.splitlines())\n",
    "x_shape = tuple(map(int, next(input_data).split()))\n",
    "X = np.fromiter(map(int, next(input_data).split()), np.int16).reshape(x_shape)\n",
    "y_shape = tuple(map(int, next(input_data).split()))\n",
    "Y = np.fromiter(map(int, next(input_data).split()), np.int16).reshape(y_shape)\n",
    "if X.shape[1] == Y.shape[1]:\n",
    "    print(X.dot(Y.T))\n",
    "else:\n",
    "    print('matrix shapes do not match')"
   ]
  },
  {
   "cell_type": "code",
   "execution_count": 39,
   "id": "028b8b43",
   "metadata": {},
   "outputs": [
    {
     "data": {
      "text/plain": [
       "array([[ 8,  7,  7],\n",
       "       [14,  4,  6]], dtype=int16)"
      ]
     },
     "execution_count": 39,
     "metadata": {},
     "output_type": "execute_result"
    }
   ],
   "source": [
    "X"
   ]
  },
  {
   "cell_type": "code",
   "execution_count": 40,
   "id": "7541c915",
   "metadata": {},
   "outputs": [
    {
     "data": {
      "text/plain": [
       "array([[5, 5, 1],\n",
       "       [5, 2, 6],\n",
       "       [3, 3, 9],\n",
       "       [1, 4, 6]], dtype=int16)"
      ]
     },
     "execution_count": 40,
     "metadata": {},
     "output_type": "execute_result"
    }
   ],
   "source": [
    "Y"
   ]
  },
  {
   "cell_type": "code",
   "execution_count": 43,
   "id": "0b5a22e0",
   "metadata": {},
   "outputs": [],
   "source": [
    "from urllib.request import urlopen\n",
    "f = urlopen('https://stepic.org/media/attachments/lesson/16462/boston_houses.csv')"
   ]
  },
  {
   "cell_type": "code",
   "execution_count": 47,
   "id": "a9bf108a",
   "metadata": {},
   "outputs": [],
   "source": [
    "spbux = np.loadtxt(f, skiprows=1, delimiter=',')"
   ]
  },
  {
   "cell_type": "code",
   "execution_count": 48,
   "id": "309bc029",
   "metadata": {
    "scrolled": true
   },
   "outputs": [
    {
     "data": {
      "text/plain": [
       "array([[3.3400e+01, 3.2370e-02, 0.0000e+00, ..., 4.5800e-01, 6.9980e+00,\n",
       "        6.0622e+00],\n",
       "       [3.6200e+01, 6.9050e-02, 0.0000e+00, ..., 4.5800e-01, 7.1470e+00,\n",
       "        6.0622e+00],\n",
       "       [2.8700e+01, 2.9850e-02, 0.0000e+00, ..., 4.5800e-01, 6.4300e+00,\n",
       "        6.0622e+00],\n",
       "       ...,\n",
       "       [2.3900e+01, 6.0760e-02, 0.0000e+00, ..., 5.7300e-01, 6.9760e+00,\n",
       "        2.1675e+00],\n",
       "       [2.2000e+01, 1.0959e-01, 0.0000e+00, ..., 5.7300e-01, 6.7940e+00,\n",
       "        2.3889e+00],\n",
       "       [1.1900e+01, 4.7410e-02, 0.0000e+00, ..., 5.7300e-01, 6.0300e+00,\n",
       "        2.5050e+00]])"
      ]
     },
     "execution_count": 48,
     "metadata": {},
     "output_type": "execute_result"
    }
   ],
   "source": [
    "spbux"
   ]
  },
  {
   "cell_type": "code",
   "execution_count": null,
   "id": "0b6b50d5",
   "metadata": {},
   "outputs": [],
   "source": []
  }
 ],
 "metadata": {
  "kernelspec": {
   "display_name": "Python 3 (ipykernel)",
   "language": "python",
   "name": "python3"
  },
  "language_info": {
   "codemirror_mode": {
    "name": "ipython",
    "version": 3
   },
   "file_extension": ".py",
   "mimetype": "text/x-python",
   "name": "python",
   "nbconvert_exporter": "python",
   "pygments_lexer": "ipython3",
   "version": "3.10.6"
  }
 },
 "nbformat": 4,
 "nbformat_minor": 5
}
