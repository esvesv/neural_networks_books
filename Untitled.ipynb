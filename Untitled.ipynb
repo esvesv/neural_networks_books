{
 "cells": [
  {
   "cell_type": "code",
   "execution_count": 1,
   "id": "e0e7a875",
   "metadata": {},
   "outputs": [],
   "source": [
    "import numpy as np"
   ]
  },
  {
   "cell_type": "code",
   "execution_count": 4,
   "id": "9ca7500a",
   "metadata": {},
   "outputs": [],
   "source": [
    "import numpy as np\n",
    "\n",
    "# x_shape = tuple(map(int, input().split()))\n",
    "# X = np.fromiter(map(int, input().split()), np.int).reshape(x_shape)\n",
    "# y_shape = tuple(map(int, input().split()))\n",
    "# Y = np.fromiter(map(int, input().split()), np.int).reshape(y_shape)\n",
    "\n",
    "\n",
    "\n",
    "# here goes your solution; X and Y are already defined!\n",
    "data = '2 3\\n8 7 7 14 4 6\\n4 3\\n5 5 1 5 2 6 3 3 9 1 4 6'"
   ]
  },
  {
   "cell_type": "code",
   "execution_count": 42,
   "id": "d63152d7",
   "metadata": {},
   "outputs": [
    {
     "name": "stdout",
     "output_type": "stream",
     "text": [
      "[[ 82  96 108  78]\n",
      " [ 96 114 108  66]]\n"
     ]
    }
   ],
   "source": [
    "input_data = iter(data.splitlines())\n",
    "x_shape = tuple(map(int, next(input_data).split()))\n",
    "X = np.fromiter(map(int, next(input_data).split()), np.int16).reshape(x_shape)\n",
    "y_shape = tuple(map(int, next(input_data).split()))\n",
    "Y = np.fromiter(map(int, next(input_data).split()), np.int16).reshape(y_shape)\n",
    "if X.shape[1] == Y.shape[1]:\n",
    "    print(X.dot(Y.T))\n",
    "else:\n",
    "    print('matrix shapes do not match')"
   ]
  },
  {
   "cell_type": "code",
   "execution_count": 39,
   "id": "028b8b43",
   "metadata": {},
   "outputs": [
    {
     "data": {
      "text/plain": [
       "array([[ 8,  7,  7],\n",
       "       [14,  4,  6]], dtype=int16)"
      ]
     },
     "execution_count": 39,
     "metadata": {},
     "output_type": "execute_result"
    }
   ],
   "source": [
    "X"
   ]
  },
  {
   "cell_type": "code",
   "execution_count": 40,
   "id": "7541c915",
   "metadata": {},
   "outputs": [
    {
     "data": {
      "text/plain": [
       "array([[5, 5, 1],\n",
       "       [5, 2, 6],\n",
       "       [3, 3, 9],\n",
       "       [1, 4, 6]], dtype=int16)"
      ]
     },
     "execution_count": 40,
     "metadata": {},
     "output_type": "execute_result"
    }
   ],
   "source": [
    "Y"
   ]
  },
  {
   "cell_type": "code",
   "execution_count": 43,
   "id": "0b5a22e0",
   "metadata": {},
   "outputs": [],
   "source": [
    "from urllib.request import urlopen\n",
    "f = urlopen('https://stepic.org/media/attachments/lesson/16462/boston_houses.csv')"
   ]
  },
  {
   "cell_type": "code",
   "execution_count": 47,
   "id": "a9bf108a",
   "metadata": {},
   "outputs": [],
   "source": [
    "spbux = np.loadtxt(f, skiprows=1, delimiter=',')"
   ]
  },
  {
   "cell_type": "code",
   "execution_count": 48,
   "id": "309bc029",
   "metadata": {
    "scrolled": true
   },
   "outputs": [
    {
     "data": {
      "text/plain": [
       "array([[3.3400e+01, 3.2370e-02, 0.0000e+00, ..., 4.5800e-01, 6.9980e+00,\n",
       "        6.0622e+00],\n",
       "       [3.6200e+01, 6.9050e-02, 0.0000e+00, ..., 4.5800e-01, 7.1470e+00,\n",
       "        6.0622e+00],\n",
       "       [2.8700e+01, 2.9850e-02, 0.0000e+00, ..., 4.5800e-01, 6.4300e+00,\n",
       "        6.0622e+00],\n",
       "       ...,\n",
       "       [2.3900e+01, 6.0760e-02, 0.0000e+00, ..., 5.7300e-01, 6.9760e+00,\n",
       "        2.1675e+00],\n",
       "       [2.2000e+01, 1.0959e-01, 0.0000e+00, ..., 5.7300e-01, 6.7940e+00,\n",
       "        2.3889e+00],\n",
       "       [1.1900e+01, 4.7410e-02, 0.0000e+00, ..., 5.7300e-01, 6.0300e+00,\n",
       "        2.5050e+00]])"
      ]
     },
     "execution_count": 48,
     "metadata": {},
     "output_type": "execute_result"
    }
   ],
   "source": [
    "spbux"
   ]
  },
  {
   "cell_type": "code",
   "execution_count": 2,
   "id": "0b6b50d5",
   "metadata": {},
   "outputs": [],
   "source": [
    "from sympy import *"
   ]
  },
  {
   "cell_type": "code",
   "execution_count": 2,
   "id": "770f7399",
   "metadata": {},
   "outputs": [],
   "source": [
    "X, y = symbols('X, y')"
   ]
  },
  {
   "cell_type": "code",
   "execution_count": 22,
   "id": "4a9142d0",
   "metadata": {},
   "outputs": [],
   "source": [
    "X = Matrix([[1, 60],\n",
    "    [1, 50],\n",
    "           [1, 75]])"
   ]
  },
  {
   "cell_type": "code",
   "execution_count": 23,
   "id": "c0b19298",
   "metadata": {},
   "outputs": [
    {
     "data": {
      "text/latex": [
       "$\\displaystyle \\left[\\begin{matrix}1 & 60\\\\1 & 50\\\\1 & 75\\end{matrix}\\right]$"
      ],
      "text/plain": [
       "Matrix([\n",
       "[1, 60],\n",
       "[1, 50],\n",
       "[1, 75]])"
      ]
     },
     "execution_count": 23,
     "metadata": {},
     "output_type": "execute_result"
    }
   ],
   "source": [
    "X"
   ]
  },
  {
   "cell_type": "code",
   "execution_count": 24,
   "id": "1f5ba7db",
   "metadata": {},
   "outputs": [],
   "source": [
    "y = Matrix([[10], [7], [12]])"
   ]
  },
  {
   "cell_type": "code",
   "execution_count": 25,
   "id": "2b969f99",
   "metadata": {},
   "outputs": [
    {
     "data": {
      "text/latex": [
       "$\\displaystyle \\left[\\begin{matrix}10\\\\7\\\\12\\end{matrix}\\right]$"
      ],
      "text/plain": [
       "Matrix([\n",
       "[10],\n",
       "[ 7],\n",
       "[12]])"
      ]
     },
     "execution_count": 25,
     "metadata": {},
     "output_type": "execute_result"
    }
   ],
   "source": [
    "y"
   ]
  },
  {
   "cell_type": "code",
   "execution_count": 26,
   "id": "fab35c7f",
   "metadata": {},
   "outputs": [
    {
     "data": {
      "text/latex": [
       "$\\displaystyle \\left[\\begin{matrix}- \\frac{89}{38}\\\\\\frac{37}{190}\\end{matrix}\\right]$"
      ],
      "text/plain": [
       "Matrix([\n",
       "[-89/38],\n",
       "[37/190]])"
      ]
     },
     "execution_count": 26,
     "metadata": {},
     "output_type": "execute_result"
    }
   ],
   "source": [
    "(X.T * X)**(-1) * X.T * y"
   ]
  },
  {
   "cell_type": "code",
   "execution_count": 15,
   "id": "063ea73c",
   "metadata": {},
   "outputs": [
    {
     "data": {
      "text/latex": [
       "$\\displaystyle 11725$"
      ],
      "text/plain": [
       "11725"
      ]
     },
     "execution_count": 15,
     "metadata": {},
     "output_type": "execute_result"
    }
   ],
   "source": [
    "X.T.dot(X)"
   ]
  },
  {
   "cell_type": "code",
   "execution_count": 16,
   "id": "162ab96b",
   "metadata": {},
   "outputs": [
    {
     "data": {
      "text/latex": [
       "$\\displaystyle \\frac{1}{11725}$"
      ],
      "text/plain": [
       "1/11725"
      ]
     },
     "execution_count": 16,
     "metadata": {},
     "output_type": "execute_result"
    }
   ],
   "source": [
    "(X.T.dot(X))**(-1)"
   ]
  },
  {
   "cell_type": "code",
   "execution_count": 17,
   "id": "7d2ecdb4",
   "metadata": {},
   "outputs": [
    {
     "data": {
      "text/latex": [
       "$\\displaystyle \\left[\\begin{matrix}11725\\end{matrix}\\right]$"
      ],
      "text/plain": [
       "Matrix([[11725]])"
      ]
     },
     "execution_count": 17,
     "metadata": {},
     "output_type": "execute_result"
    }
   ],
   "source": [
    "X.T * X"
   ]
  },
  {
   "cell_type": "raw",
   "id": "e39f28aa",
   "metadata": {},
   "source": [
    "step1 = X.T.dot(X)\n",
    "step2 = linalg.inv(step1)\n",
    "step3 = step2.dot(X.T)\n",
    "b = step3.dot(y)"
   ]
  },
  {
   "cell_type": "code",
   "execution_count": 29,
   "id": "1fd7fd95",
   "metadata": {},
   "outputs": [],
   "source": [
    "X = np.array([[1, 60],\n",
    "    [1, 50],\n",
    "           [1, 75]])"
   ]
  },
  {
   "cell_type": "code",
   "execution_count": 30,
   "id": "51cc2c10",
   "metadata": {},
   "outputs": [
    {
     "data": {
      "text/plain": [
       "array([[ 1, 60],\n",
       "       [ 1, 50],\n",
       "       [ 1, 75]])"
      ]
     },
     "execution_count": 30,
     "metadata": {},
     "output_type": "execute_result"
    }
   ],
   "source": [
    "X"
   ]
  },
  {
   "cell_type": "code",
   "execution_count": 31,
   "id": "4ad26dda",
   "metadata": {},
   "outputs": [],
   "source": [
    "y = np.array([[10], [7], [12]])"
   ]
  },
  {
   "cell_type": "code",
   "execution_count": 32,
   "id": "ac491678",
   "metadata": {},
   "outputs": [
    {
     "data": {
      "text/plain": [
       "array([[10],\n",
       "       [ 7],\n",
       "       [12]])"
      ]
     },
     "execution_count": 32,
     "metadata": {},
     "output_type": "execute_result"
    }
   ],
   "source": [
    "y"
   ]
  },
  {
   "cell_type": "code",
   "execution_count": 34,
   "id": "2721799b",
   "metadata": {},
   "outputs": [],
   "source": [
    "step1 = X.T.dot(X)\n",
    "step2 = np.linalg.inv(step1)\n",
    "step3 = step2.dot(X.T)\n",
    "b = step3.dot(y)"
   ]
  },
  {
   "cell_type": "code",
   "execution_count": 35,
   "id": "4d92a4c0",
   "metadata": {},
   "outputs": [
    {
     "data": {
      "text/plain": [
       "array([[-2.34210526],\n",
       "       [ 0.19473684]])"
      ]
     },
     "execution_count": 35,
     "metadata": {},
     "output_type": "execute_result"
    }
   ],
   "source": [
    "b"
   ]
  },
  {
   "cell_type": "code",
   "execution_count": 3,
   "id": "278b8c6e",
   "metadata": {},
   "outputs": [],
   "source": [
    "x = Symbol('x')"
   ]
  },
  {
   "cell_type": "code",
   "execution_count": 4,
   "id": "338ab205",
   "metadata": {},
   "outputs": [
    {
     "data": {
      "text/latex": [
       "$\\displaystyle e^{x}$"
      ],
      "text/plain": [
       "exp(x)"
      ]
     },
     "execution_count": 4,
     "metadata": {},
     "output_type": "execute_result"
    }
   ],
   "source": [
    "exp(x)"
   ]
  },
  {
   "cell_type": "code",
   "execution_count": 6,
   "id": "db82f273",
   "metadata": {},
   "outputs": [
    {
     "data": {
      "text/latex": [
       "$\\displaystyle \\log{\\left(e^{x} + 1 \\right)}$"
      ],
      "text/plain": [
       "log(exp(x) + 1)"
      ]
     },
     "execution_count": 6,
     "metadata": {},
     "output_type": "execute_result"
    }
   ],
   "source": [
    "f = ln(1 + exp(x))\n",
    "f"
   ]
  },
  {
   "cell_type": "code",
   "execution_count": 7,
   "id": "7ecf19c4",
   "metadata": {},
   "outputs": [
    {
     "data": {
      "text/latex": [
       "$\\displaystyle \\frac{1}{x}$"
      ],
      "text/plain": [
       "1/x"
      ]
     },
     "execution_count": 7,
     "metadata": {},
     "output_type": "execute_result"
    }
   ],
   "source": [
    "diff(ln(x))"
   ]
  },
  {
   "cell_type": "code",
   "execution_count": 8,
   "id": "51ef77de",
   "metadata": {},
   "outputs": [
    {
     "data": {
      "text/latex": [
       "$\\displaystyle e^{x}$"
      ],
      "text/plain": [
       "exp(x)"
      ]
     },
     "execution_count": 8,
     "metadata": {},
     "output_type": "execute_result"
    }
   ],
   "source": [
    "diff(exp(x))"
   ]
  },
  {
   "cell_type": "code",
   "execution_count": 9,
   "id": "27116111",
   "metadata": {},
   "outputs": [
    {
     "data": {
      "text/latex": [
       "$\\displaystyle \\frac{e^{x}}{e^{x} + 1}$"
      ],
      "text/plain": [
       "exp(x)/(exp(x) + 1)"
      ]
     },
     "execution_count": 9,
     "metadata": {},
     "output_type": "execute_result"
    }
   ],
   "source": [
    "diff(f)"
   ]
  },
  {
   "cell_type": "code",
   "execution_count": 1,
   "id": "f6dae5f6",
   "metadata": {},
   "outputs": [],
   "source": [
    "import numpy as np"
   ]
  },
  {
   "cell_type": "code",
   "execution_count": 8,
   "id": "95d697fe",
   "metadata": {},
   "outputs": [],
   "source": [
    "x = np.random.randint(1, 10, (3, 5))\n",
    "w = np.random.randint(1, 10, (3, 1))"
   ]
  },
  {
   "cell_type": "code",
   "execution_count": 9,
   "id": "148e53a9",
   "metadata": {},
   "outputs": [
    {
     "data": {
      "text/plain": [
       "array([[6, 1, 7, 5, 9],\n",
       "       [4, 5, 5, 8, 1],\n",
       "       [2, 7, 4, 8, 4]])"
      ]
     },
     "execution_count": 9,
     "metadata": {},
     "output_type": "execute_result"
    }
   ],
   "source": [
    "x"
   ]
  },
  {
   "cell_type": "code",
   "execution_count": 10,
   "id": "c57d726b",
   "metadata": {},
   "outputs": [
    {
     "data": {
      "text/plain": [
       "array([[5],\n",
       "       [1],\n",
       "       [9]])"
      ]
     },
     "execution_count": 10,
     "metadata": {},
     "output_type": "execute_result"
    }
   ],
   "source": [
    "w"
   ]
  },
  {
   "cell_type": "code",
   "execution_count": null,
   "id": "71714432",
   "metadata": {},
   "outputs": [],
   "source": [
    "w.T.dot(x).T"
   ]
  },
  {
   "cell_type": "code",
   "execution_count": null,
   "id": "ea3fe8cc",
   "metadata": {},
   "outputs": [],
   "source": []
  }
 ],
 "metadata": {
  "kernelspec": {
   "display_name": "Python 3 (ipykernel)",
   "language": "python",
   "name": "python3"
  },
  "language_info": {
   "codemirror_mode": {
    "name": "ipython",
    "version": 3
   },
   "file_extension": ".py",
   "mimetype": "text/x-python",
   "name": "python",
   "nbconvert_exporter": "python",
   "pygments_lexer": "ipython3",
   "version": "3.10.6"
  }
 },
 "nbformat": 4,
 "nbformat_minor": 5
}
